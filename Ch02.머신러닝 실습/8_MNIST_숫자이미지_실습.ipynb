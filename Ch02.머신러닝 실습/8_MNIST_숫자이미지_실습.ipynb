{
  "nbformat": 4,
  "nbformat_minor": 0,
  "metadata": {
    "colab": {
      "name": "8_MNIST 숫자이미지 실습.ipynb",
      "provenance": [],
      "collapsed_sections": [],
      "mount_file_id": "1lYXi7YD2QM6sr_ued0tgjZTi9u73HAzQ",
      "authorship_tag": "ABX9TyPGFeaq8Vw26YRjkUiBv9I8",
      "include_colab_link": true
    },
    "kernelspec": {
      "name": "python3",
      "display_name": "Python 3"
    },
    "language_info": {
      "name": "python"
    }
  },
  "cells": [
    {
      "cell_type": "markdown",
      "metadata": {
        "id": "view-in-github",
        "colab_type": "text"
      },
      "source": [
        "<a href=\"https://colab.research.google.com/github/Byeonjinha/Colab/blob/main/Ch02.%EB%A8%B8%EC%8B%A0%EB%9F%AC%EB%8B%9D%20%EC%8B%A4%EC%8A%B5/8_MNIST_%EC%88%AB%EC%9E%90%EC%9D%B4%EB%AF%B8%EC%A7%80_%EC%8B%A4%EC%8A%B5.ipynb\" target=\"_parent\"><img src=\"https://colab.research.google.com/assets/colab-badge.svg\" alt=\"Open In Colab\"/></a>"
      ]
    },
    {
      "cell_type": "code",
      "metadata": {
        "id": "AKkDFbdDZ_4z"
      },
      "source": [
        "\"\"\"\n",
        "날짜 : 2021/10/20\n",
        "이름 : 변진하\n",
        "내용 : MNIST 숫자이미지 실습하기\n",
        "\"\"\"\n",
        "\n",
        "import pandas as pd\n",
        "import numpy as np\n",
        "import matplotlib.pyplot as plt\n",
        "from sklearn import svm, metrics\n",
        "from sklearn.model_selection import train_test_split"
      ],
      "execution_count": 42,
      "outputs": []
    },
    {
      "cell_type": "code",
      "metadata": {
        "id": "snPbKPJbb3rT"
      },
      "source": [
        "# 데이터 불러오기\n",
        "df_mnist_train_data = pd.read_csv('/content/drive/MyDrive/Colab Notebooks/file/mnist_train.csv')\n",
        "df_mnist_test_data = pd.read_csv('/content/drive/MyDrive/Colab Notebooks/file/mnist_test.csv')"
      ],
      "execution_count": 23,
      "outputs": []
    },
    {
      "cell_type": "code",
      "metadata": {
        "colab": {
          "base_uri": "https://localhost:8080/",
          "height": 265
        },
        "id": "kB-5lMz-cd-C",
        "outputId": "2d4a8301-35a1-4bc6-94af-7b1576c76370"
      },
      "source": [
        "# 픽셀 데이터 이미지 출력\n",
        "img_list = df_mnist_train_data.iloc[43833, 1:].tolist()\n",
        "img = np.reshape(img_list, [28, 28])\n",
        "plt.imshow(img)\n",
        "plt.show()\n"
      ],
      "execution_count": 24,
      "outputs": [
        {
          "output_type": "display_data",
          "data": {
            "image/png": "[encoded data removed]",
            "text/plain": [
              "<Figure size 432x288 with 1 Axes>"
            ]
          },
          "metadata": {
            "needs_background": "light"
          }
        }
      ]
    },
    {
      "cell_type": "code",
      "metadata": {
        "colab": {
          "base_uri": "https://localhost:8080/"
        },
        "id": "cN40ffOmdSoU",
        "outputId": "9c2b56b6-0623-4788-b84a-c1227d635d25"
      },
      "source": [
        "# 학습데이터\n",
        "mnist_train_data = df_mnist_train_data.iloc[:, 1:] / 255\n",
        "mnist_train_label = df_mnist_train_data.iloc[:, 0]\n",
        "print(mnist_train_data.shape)\n",
        "\n",
        "mnist_test_data = df_mnist_test_data.iloc[:, 1:] / 255\n",
        "mnist_test_label = df_mnist_test_data.iloc[:, 0]\n",
        "print(mnist_test_data.shape) "
      ],
      "execution_count": 33,
      "outputs": [
        {
          "output_type": "stream",
          "name": "stdout",
          "text": [
            "(60000, 784)\n",
            "(10000, 784)\n"
          ]
        }
      ]
    },
    {
      "cell_type": "markdown",
      "metadata": {
        "id": "DP4Vhf6Yef00"
      },
      "source": [
        ""
      ]
    },
    {
      "cell_type": "code",
      "metadata": {
        "colab": {
          "base_uri": "https://localhost:8080/"
        },
        "id": "xGjYUSdUdRdk",
        "outputId": "c121c8af-fb2e-4335-eb50-3a2cb1b810a7"
      },
      "source": [
        "# 학습하기\n",
        "model =svm.SVC()\n",
        "model.fit(mnist_train_data, mnist_train_label)"
      ],
      "execution_count": 34,
      "outputs": [
        {
          "output_type": "execute_result",
          "data": {
            "text/plain": [
              "SVC(C=1.0, break_ties=False, cache_size=200, class_weight=None, coef0=0.0,\n",
              "    decision_function_shape='ovr', degree=3, gamma='scale', kernel='rbf',\n",
              "    max_iter=-1, probability=False, random_state=None, shrinking=True,\n",
              "    tol=0.001, verbose=False)"
            ]
          },
          "metadata": {},
          "execution_count": 34
        }
      ]
    },
    {
      "cell_type": "code",
      "metadata": {
        "id": "1C6qWpG5eyba"
      },
      "source": [
        "# 테스트\n",
        "result =model.predict(mnist_test_data)"
      ],
      "execution_count": 35,
      "outputs": []
    },
    {
      "cell_type": "code",
      "metadata": {
        "colab": {
          "base_uri": "https://localhost:8080/"
        },
        "id": "na7yOP2ehFLS",
        "outputId": "8d9314c6-2241-44e9-94b9-efaf1cd7f06e"
      },
      "source": [
        "# 성능평가\n",
        "score = metrics.accuracy_score(result, mnist_test_label)\n",
        "score"
      ],
      "execution_count": 38,
      "outputs": [
        {
          "output_type": "execute_result",
          "data": {
            "text/plain": [
              "0.9792"
            ]
          },
          "metadata": {},
          "execution_count": 38
        }
      ]
    },
    {
      "cell_type": "code",
      "metadata": {
        "colab": {
          "base_uri": "https://localhost:8080/",
          "height": 283
        },
        "id": "7hDyTyT_jLqs",
        "outputId": "58f5d4c1-7be1-4f7c-fd64-de592fc133de"
      },
      "source": [
        "# 검증\n",
        "row = 1\n",
        "img_list = mnist_test_data.iloc[row, :].tolist()\n",
        "img = np.reshape(img_list, [28, 28])\n",
        "plt.imshow(img)\n",
        "plt.show()\n",
        "\n",
        "answer = model.predict(mnist_test_data.iloc[[row], :])\n",
        "answer[0]"
      ],
      "execution_count": 46,
      "outputs": [
        {
          "output_type": "display_data",
          "data": {
            "image/png": "[encoded data removed]",
            "text/plain": [
              "<Figure size 432x288 with 1 Axes>"
            ]
          },
          "metadata": {
            "needs_background": "light"
          }
        },
        {
          "output_type": "execute_result",
          "data": {
            "text/plain": [
              "2"
            ]
          },
          "metadata": {},
          "execution_count": 46
        }
      ]
    },
    {
      "cell_type": "code",
      "metadata": {
        "id": "fCh3fdOJjKAU"
      },
      "source": [
        ""
      ],
      "execution_count": 41,
      "outputs": []
    },
    {
      "cell_type": "code",
      "metadata": {
        "id": "IbN_nI05ipJs"
      },
      "source": [
        ""
      ],
      "execution_count": null,
      "outputs": []
    }
  ]
}