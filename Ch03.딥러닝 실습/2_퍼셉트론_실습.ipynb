{
  "nbformat": 4,
  "nbformat_minor": 0,
  "metadata": {
    "colab": {
      "name": "2_퍼셉트론_실습.ipynb",
      "provenance": [],
      "collapsed_sections": [],
      "authorship_tag": "ABX9TyOqiNoIATXDAofMIWtT3bfE",
      "include_colab_link": true
    },
    "kernelspec": {
      "name": "python3",
      "display_name": "Python 3"
    },
    "language_info": {
      "name": "python"
    }
  },
  "cells": [
    {
      "cell_type": "markdown",
      "metadata": {
        "id": "view-in-github",
        "colab_type": "text"
      },
      "source": [
        "<a href=\"https://colab.research.google.com/github/Byeonjinha/Colab/blob/main/Ch03.%EB%94%A5%EB%9F%AC%EB%8B%9D%20%EC%8B%A4%EC%8A%B5/2_%ED%8D%BC%EC%85%89%ED%8A%B8%EB%A1%A0_%EC%8B%A4%EC%8A%B5.ipynb\" target=\"_parent\"><img src=\"https://colab.research.google.com/assets/colab-badge.svg\" alt=\"Open In Colab\"/></a>"
      ]
    },
    {
      "cell_type": "code",
      "metadata": {
        "id": "Cmklf-KyTqEn"
      },
      "source": [
        "\n",
        "\"\"\"\n",
        "날짜 : 2021/10/26\n",
        "이름 : 변진하\n",
        "내용 : 퍼셉트론 실습하기\n",
        "\"\"\"\n",
        "import numpy as np"
      ],
      "execution_count": 1,
      "outputs": []
    },
    {
      "cell_type": "code",
      "metadata": {
        "id": "-CLSQ4UtTu18"
      },
      "source": [
        "# AND 연산 퍼셉트론 함수\n",
        "def AND(x1, x2):\n",
        "  x = np.array([x1, x2])\n",
        "  w = np.array([0.5, 0.5])\n",
        "  b = -0.7\n",
        "\n",
        "  y = np.sum(x * w) + b\n",
        "\n",
        "  if y <= 0:\n",
        "    return 0\n",
        "  else:\n",
        "    return 1\n",
        "\n",
        "# NAND 연산 퍼셉트론 함수\n",
        "def NAND(x1, x2):\n",
        "  x = np.array([x1, x2])\n",
        "  w = np.array([-0.5, -0.5])\n",
        "  b = 0.7\n",
        "\n",
        "  y = np.sum(x * w) + b\n",
        "\n",
        "  if y <= 0:\n",
        "    return 0\n",
        "  else:\n",
        "    return 1\n",
        "\n",
        "# OR 연산 퍼셉트론 함수\n",
        "def OR(x1, x2):\n",
        "  x = np.array([x1, x2])\n",
        "  w = np.array([2, 2])\n",
        "  b = -1\n",
        "\n",
        "  y = np.sum(x * w) + b\n",
        "\n",
        "  if y <= 0:\n",
        "    return 0\n",
        "  else:\n",
        "    return 1"
      ],
      "execution_count": 2,
      "outputs": []
    },
    {
      "cell_type": "code",
      "metadata": {
        "colab": {
          "base_uri": "https://localhost:8080/"
        },
        "id": "2gKU6R8eTxpa",
        "outputId": "a511a642-0986-460c-a7b6-b5bb3f233f4f"
      },
      "source": [
        "# 테스트하기\n",
        "print('AND')\n",
        "print('0, 0 :', AND(0, 0))\n",
        "print('0, 1 :', AND(0, 1))\n",
        "print('1, 0 :', AND(1, 0))\n",
        "print('1, 1 :', AND(1, 1))\n",
        "\n",
        "print('NAND')\n",
        "print('0, 0 :', NAND(0, 0))\n",
        "print('0, 1 :', NAND(0, 1))\n",
        "print('1, 0 :', NAND(1, 0))\n",
        "print('1, 1 :', NAND(1, 1))\n",
        "\n",
        "print('OR')\n",
        "print('0, 0 :', OR(0, 0))\n",
        "print('0, 1 :', OR(0, 1))\n",
        "print('1, 0 :', OR(1, 0))\n",
        "print('1, 1 :', OR(1, 1))"
      ],
      "execution_count": 3,
      "outputs": [
        {
          "output_type": "stream",
          "name": "stdout",
          "text": [
            "AND\n",
            "0, 0 : 0\n",
            "0, 1 : 0\n",
            "1, 0 : 0\n",
            "1, 1 : 1\n",
            "NAND\n",
            "0, 0 : 1\n",
            "0, 1 : 1\n",
            "1, 0 : 1\n",
            "1, 1 : 0\n",
            "OR\n",
            "0, 0 : 0\n",
            "0, 1 : 1\n",
            "1, 0 : 1\n",
            "1, 1 : 1\n"
          ]
        }
      ]
    },
    {
      "cell_type": "code",
      "metadata": {
        "id": "XyU0o-gkTzni"
      },
      "source": [
        "# XOR 퍼셉트론 함수 \n",
        "def XOR(x1, x2):\n",
        "  z1 = NAND(x1, x2)\n",
        "  z2 = OR(x1, x2)\n",
        "  y = AND(z1, z2)\n",
        "\n",
        "  return y"
      ],
      "execution_count": 4,
      "outputs": []
    },
    {
      "cell_type": "code",
      "metadata": {
        "colab": {
          "base_uri": "https://localhost:8080/"
        },
        "id": "colfZTI8T2Bz",
        "outputId": "2e3b4c6b-33f6-49e7-8d49-917f9702965b"
      },
      "source": [
        "# XOR 결과\n",
        "print('XOR')\n",
        "print('0, 0 :', XOR(0, 0))\n",
        "print('0, 1 :', XOR(0, 1))\n",
        "print('1, 0 :', XOR(1, 0))\n",
        "print('1, 1 :', XOR(1, 1))"
      ],
      "execution_count": 5,
      "outputs": [
        {
          "output_type": "stream",
          "name": "stdout",
          "text": [
            "XOR\n",
            "0, 0 : 0\n",
            "0, 1 : 1\n",
            "1, 0 : 1\n",
            "1, 1 : 0\n"
          ]
        }
      ]
    },
    {
      "cell_type": "code",
      "metadata": {
        "id": "lJsEgGHfT3oa"
      },
      "source": [
        ""
      ],
      "execution_count": null,
      "outputs": []
    }
  ]
}